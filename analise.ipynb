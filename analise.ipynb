{
 "cells": [
  {
   "cell_type": "markdown",
   "metadata": {},
   "source": [
    "### Desafio Descomplica"
   ]
  },
  {
   "cell_type": "markdown",
   "metadata": {},
   "source": [
    "**1- NPS**\n",
    "<br>O Net Promoter Score é a métrica de lealdade de clientes mais difundida para serviços\n",
    "<br>Na aba \"Item 1\" há uma pequena amostra de avaliação de alunos dos nossos cursos de vestibular\n",
    "<br>Como você avaliaria estes dados? o que poderia tirar da pergunta aberta?"
   ]
  },
  {
   "cell_type": "markdown",
   "metadata": {},
   "source": [
    "**2- Propensão**\n",
    "<br>Gostariamos de prever alunos propensos à renovação de plano a partir de seu historico de interações com a plataforma\n",
    "<br>Na aba \"Item 2\" há uma base de 1000 alunos com as interações em 1 semestre e uma flag em que 1 indica que houve renovação de plano\n",
    "<br>Quais aprendizados você pode tirar do produto com esta análise? Como indicaria que se trabalhasse a propensão à renovação?"
   ]
  },
  {
   "cell_type": "markdown",
   "metadata": {},
   "source": [
    "**3- Insights Mídia**\n",
    "<br>Hoje temos um alto investimento em mídia online e isto define muito dos nossos acessos ao site e do nosso resultado de vendas\n",
    "<br>Na aba \"Item 3\" há dados captados em 2 anos pelo Google Analytics\n",
    "faça uma analise comparativa entre os anos e tire conclusões possíveis sobre as mídias que foram trabalhadas"
   ]
  },
  {
   "cell_type": "markdown",
   "metadata": {},
   "source": [
    "### Início do Análise"
   ]
  },
  {
   "cell_type": "code",
   "execution_count": 1,
   "metadata": {},
   "outputs": [],
   "source": [
    "import pandas as pd\n",
    "import matplotlib.pyplot as plt\n",
    "import os"
   ]
  },
  {
   "cell_type": "code",
   "execution_count": 2,
   "metadata": {},
   "outputs": [],
   "source": [
    "dir_path = os.getcwd()"
   ]
  },
  {
   "cell_type": "code",
   "execution_count": 3,
   "metadata": {},
   "outputs": [],
   "source": [
    "df1 = pd.read_excel(dir_path+'/TesteEspecialistaDataScience.xlsx', sheet_name='Item 1')\n",
    "df2 = pd.read_excel(dir_path+'/TesteEspecialistaDataScience.xlsx', sheet_name='Item 2')\n",
    "df3 = pd.read_excel(dir_path+'/TesteEspecialistaDataScience.xlsx', sheet_name='Item 3')"
   ]
  },
  {
   "cell_type": "code",
   "execution_count": 4,
   "metadata": {},
   "outputs": [],
   "source": [
    "lista_df = [df1, df2, df3]\n",
    "for df in lista_df:\n",
    "    for x in df.columns:\n",
    "        if df[x].dtype == 'object':\n",
    "            df[x] = df[x].astype('category')"
   ]
  },
  {
   "cell_type": "code",
   "execution_count": 18,
   "metadata": {},
   "outputs": [],
   "source": [
    "def descricao_dados(df):\n",
    "    print('='*100)\n",
    "    print('='*5+' Dimensão da base de dados: {} colunas e {} registros.'.format(df.shape[1], df.shape[0]))\n",
    "    print('='*100)\n",
    "    print('='*5+' Colunas:')\n",
    "    print(', \\n'.join(['== '+x for x in df.columns.values]))\n",
    "    print('='*100)\n",
    "    print('='*5+' Informação sobre os dados:')\n",
    "    print(df.info())"
   ]
  },
  {
   "cell_type": "code",
   "execution_count": 19,
   "metadata": {},
   "outputs": [
    {
     "name": "stdout",
     "output_type": "stream",
     "text": [
      "int64\n",
      "int64\n",
      "category\n"
     ]
    }
   ],
   "source": [
    "for i,x in enumerate(df1.dtypes):\n",
    "    print(x)"
   ]
  },
  {
   "cell_type": "code",
   "execution_count": 20,
   "metadata": {},
   "outputs": [
    {
     "name": "stdout",
     "output_type": "stream",
     "text": [
      "====================================================================================================\n",
      "===== Dimensão da base de dados: 3 colunas e 240 registros.\n",
      "====================================================================================================\n",
      "===== Colunas:\n",
      "== id, \n",
      "== Qual é a probabilidade de você recomendar Descomplica a seus amigos e colegas?, \n",
      "== O que poderíamos fazer para melhorar?\n",
      "====================================================================================================\n",
      "===== Informação sobre os dados:\n",
      "<class 'pandas.core.frame.DataFrame'>\n",
      "RangeIndex: 240 entries, 0 to 239\n",
      "Data columns (total 3 columns):\n",
      "id                                                                                240 non-null int64\n",
      "Qual é a probabilidade de você recomendar Descomplica a seus amigos e colegas?    240 non-null int64\n",
      "O que poderíamos fazer para melhorar?                                             49 non-null category\n",
      "dtypes: category(1), int64(2)\n",
      "memory usage: 5.7 KB\n",
      "None\n"
     ]
    }
   ],
   "source": [
    "descricao_dados(df1)"
   ]
  },
  {
   "cell_type": "code",
   "execution_count": 17,
   "metadata": {},
   "outputs": [
    {
     "name": "stdout",
     "output_type": "stream",
     "text": [
      "<class 'pandas.core.frame.DataFrame'>\n",
      "RangeIndex: 240 entries, 0 to 239\n",
      "Data columns (total 3 columns):\n",
      "id                                                                                240 non-null int64\n",
      "Qual é a probabilidade de você recomendar Descomplica a seus amigos e colegas?    240 non-null int64\n",
      "O que poderíamos fazer para melhorar?                                             49 non-null category\n",
      "dtypes: category(1), int64(2)\n",
      "memory usage: 5.7 KB\n"
     ]
    }
   ],
   "source": [
    "df1.info()"
   ]
  },
  {
   "cell_type": "code",
   "execution_count": null,
   "metadata": {},
   "outputs": [],
   "source": []
  }
 ],
 "metadata": {
  "kernelspec": {
   "display_name": "Python 3",
   "language": "python",
   "name": "python3"
  },
  "language_info": {
   "codemirror_mode": {
    "name": "ipython",
    "version": 2
   },
   "file_extension": ".py",
   "mimetype": "text/x-python",
   "name": "python",
   "nbconvert_exporter": "python",
   "pygments_lexer": "ipython2",
   "version": "2.7.17"
  }
 },
 "nbformat": 4,
 "nbformat_minor": 2
}
