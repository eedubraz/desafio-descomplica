{
 "cells": [
  {
   "cell_type": "markdown",
   "metadata": {},
   "source": [
    "# Desafio Descomplica"
   ]
  },
  {
   "cell_type": "markdown",
   "metadata": {},
   "source": [
    "**1- NPS**\n",
    "<br>O Net Promoter Score é a métrica de lealdade de clientes mais difundida para serviços\n",
    "<br>Na aba \"Item 1\" há uma pequena amostra de avaliação de alunos dos nossos cursos de vestibular\n",
    "<br>Como você avaliaria estes dados? o que poderia tirar da pergunta aberta?"
   ]
  },
  {
   "cell_type": "markdown",
   "metadata": {},
   "source": [
    "**2- Propensão**\n",
    "<br>Gostariamos de prever alunos propensos à renovação de plano a partir de seu historico de interações com a plataforma\n",
    "<br>Na aba \"Item 2\" há uma base de 1000 alunos com as interações em 1 semestre e uma flag em que 1 indica que houve renovação de plano\n",
    "<br>Quais aprendizados você pode tirar do produto com esta análise? Como indicaria que se trabalhasse a propensão à renovação?"
   ]
  },
  {
   "cell_type": "markdown",
   "metadata": {},
   "source": [
    "**3- Insights Mídia**\n",
    "<br>Hoje temos um alto investimento em mídia online e isto define muito dos nossos acessos ao site e do nosso resultado de vendas\n",
    "<br>Na aba \"Item 3\" há dados captados em 2 anos pelo Google Analytics\n",
    "faça uma analise comparativa entre os anos e tire conclusões possíveis sobre as mídias que foram trabalhadas"
   ]
  },
  {
   "cell_type": "markdown",
   "metadata": {},
   "source": [
    "### Carregando as Bibliotecas"
   ]
  },
  {
   "cell_type": "code",
   "execution_count": 75,
   "metadata": {},
   "outputs": [],
   "source": [
    "import sys\n",
    "import pandas as pd\n",
    "import matplotlib.pyplot as plt\n",
    "import os\n",
    "import nltk\n",
    "from collections import Counter\n",
    "from nltk.corpus import stopwords"
   ]
  },
  {
   "cell_type": "markdown",
   "metadata": {},
   "source": [
    "### Importando os dados"
   ]
  },
  {
   "cell_type": "code",
   "execution_count": 76,
   "metadata": {},
   "outputs": [],
   "source": [
    "dir_path = os.getcwd()\n",
    "\n",
    "df1 = pd.read_excel(dir_path+'/TesteEspecialistaDataScience.xlsx', sheet_name='Item 1', encoding = 'ISO-8859-1')\n",
    "#df1 = pd.read_csv('teste.csv', delimiter = ';', encoding = 'utf-8')\n",
    "df2 = pd.read_excel(dir_path+'/TesteEspecialistaDataScience.xlsx', sheet_name='Item 2', encoding = 'ISO-8859-1')\n",
    "df3 = pd.read_excel(dir_path+'/TesteEspecialistaDataScience.xlsx', sheet_name='Item 3', encoding = 'ISO-8859-1')"
   ]
  },
  {
   "cell_type": "code",
   "execution_count": 77,
   "metadata": {},
   "outputs": [],
   "source": [
    "def descricao_dados(df):\n",
    "    print('='*80)\n",
    "    print('='*5+' Dimensão da base de dados: {} colunas e {} registros.'.format(df.shape[1], df.shape[0]))\n",
    "    print('='*80)\n",
    "    print('='*5+' Colunas:')\n",
    "    print(', \\n'.join(['== '+x for x in df.columns.values]))\n",
    "    print('='*80)\n",
    "    print(df1.info())\n",
    "    print('='*80)"
   ]
  },
  {
   "cell_type": "code",
   "execution_count": 78,
   "metadata": {},
   "outputs": [],
   "source": [
    "def aplicar_encode(i):\n",
    "    try:\n",
    "        x = i.encode('utf-8')\n",
    "        return x\n",
    "    except:\n",
    "        return i"
   ]
  },
  {
   "cell_type": "markdown",
   "metadata": {},
   "source": [
    "## 1- NPS\n",
    "<br>O Net Promoter Score é a métrica de lealdade de clientes mais difundida para serviços\n",
    "<br>Na aba \"Item 1\" há uma pequena amostra de avaliação de alunos dos nossos cursos de vestibular\n",
    "<br>Como você avaliaria estes dados? o que poderia tirar da pergunta aberta?"
   ]
  },
  {
   "cell_type": "markdown",
   "metadata": {},
   "source": [
    "### 1.1 Descrição dos dados"
   ]
  },
  {
   "cell_type": "code",
   "execution_count": 79,
   "metadata": {},
   "outputs": [
    {
     "name": "stdout",
     "output_type": "stream",
     "text": [
      "================================================================================\n",
      "===== Dimensão da base de dados: 3 colunas e 240 registros.\n",
      "================================================================================\n",
      "===== Colunas:\n",
      "== id, \n",
      "== Qual é a probabilidade de você recomendar Descomplica a seus amigos e colegas?, \n",
      "== O que poderíamos fazer para melhorar?\n",
      "================================================================================\n",
      "<class 'pandas.core.frame.DataFrame'>\n",
      "RangeIndex: 240 entries, 0 to 239\n",
      "Data columns (total 3 columns):\n",
      "id                                                                                240 non-null int64\n",
      "Qual é a probabilidade de você recomendar Descomplica a seus amigos e colegas?    240 non-null int64\n",
      "O que poderíamos fazer para melhorar?                                             49 non-null object\n",
      "dtypes: int64(2), object(1)\n",
      "memory usage: 5.7+ KB\n",
      "None\n",
      "================================================================================\n"
     ]
    }
   ],
   "source": [
    "descricao_dados(df1)"
   ]
  },
  {
   "cell_type": "markdown",
   "metadata": {},
   "source": [
    "### 1.2 Análise Exploratória dos Dados (EDA)"
   ]
  },
  {
   "cell_type": "markdown",
   "metadata": {},
   "source": [
    "Alteração do nome das colunas para facilitar a análise"
   ]
  },
  {
   "cell_type": "code",
   "execution_count": 80,
   "metadata": {},
   "outputs": [],
   "source": [
    "df1.columns = ['id', 'prob_recomendar', 'melhoria']"
   ]
  },
  {
   "cell_type": "markdown",
   "metadata": {},
   "source": [
    "Verificando a frequência das avaliações dos alunos"
   ]
  },
  {
   "cell_type": "code",
   "execution_count": 81,
   "metadata": {},
   "outputs": [
    {
     "data": {
      "text/plain": [
       "<matplotlib.axes._subplots.AxesSubplot at 0x7fcd3b36c190>"
      ]
     },
     "execution_count": 81,
     "metadata": {},
     "output_type": "execute_result"
    },
    {
     "data": {
      "image/png": "[encoded data removed]",
      "text/plain": [
       "<Figure size 432x288 with 1 Axes>"
      ]
     },
     "metadata": {
      "needs_background": "light"
     },
     "output_type": "display_data"
    }
   ],
   "source": [
    "df1['prob_recomendar'].value_counts().plot(kind='bar')"
   ]
  },
  {
   "cell_type": "code",
   "execution_count": 83,
   "metadata": {},
   "outputs": [
    {
     "data": {
      "text/plain": [
       "10    0.600000\n",
       "9     0.137500\n",
       "8     0.116667\n",
       "7     0.045833\n",
       "5     0.033333\n",
       "0     0.033333\n",
       "6     0.008333\n",
       "4     0.008333\n",
       "1     0.008333\n",
       "3     0.004167\n",
       "2     0.004167\n",
       "Name: prob_recomendar, dtype: float64"
      ]
     },
     "execution_count": 83,
     "metadata": {},
     "output_type": "execute_result"
    }
   ],
   "source": [
    "df1['prob_recomendar'].value_counts(normalize = True)"
   ]
  },
  {
   "cell_type": "markdown",
   "metadata": {},
   "source": [
    "*É possível veriricar que 60% da base amostral avaliou o curso de vestibular com a nota máxima, ou seja, aproximadamente 2 a cada 3 alunos se mostraram totalmente satisfeitos com o curso.*"
   ]
  },
  {
   "cell_type": "markdown",
   "metadata": {},
   "source": [
    "Criação de níveis de avaliação para análise dos comentários"
   ]
  },
  {
   "cell_type": "code",
   "execution_count": 121,
   "metadata": {},
   "outputs": [
    {
     "data": {
      "text/plain": [
       "alto     0.908333\n",
       "baixo    0.058333\n",
       "medio    0.033333\n",
       "Name: prob_nivel, dtype: float64"
      ]
     },
     "execution_count": 121,
     "metadata": {},
     "output_type": "execute_result"
    }
   ],
   "source": [
    "# Definiação dos intervalos\n",
    "bins = [-1,4,5,10]\n",
    "# Aplicação dos intervalos e a criação de uma nova coluna no dataframe\n",
    "df1['prob_nivel'] = pd.cut(df1['prob_recomendar'], bins, labels = ['baixo','medio','alto'])\n",
    "df1['prob_nivel'].value_counts(normalize = True)"
   ]
  },
  {
   "cell_type": "markdown",
   "metadata": {},
   "source": [
    "**Nível de avaliação x comentários realizados**"
   ]
  },
  {
   "cell_type": "code",
   "execution_count": 127,
   "metadata": {},
   "outputs": [
    {
     "name": "stdout",
     "output_type": "stream",
     "text": [
      "De 240 registros da base amostral, 49 (20.42%) dos alunos preencheram o campo de melhoria.\n"
     ]
    }
   ],
   "source": [
    "qtd_melhoria = df1['melhoria'].notnull().sum()\n",
    "print('De {} registros da base amostral, {} ({:.2%}) dos alunos preencheram o campo de melhoria.'.\n",
    "     format(df1.shape[0],\n",
    "            qtd_melhoria,\n",
    "            float(qtd_melhoria)/df1.shape[0]))"
   ]
  },
  {
   "cell_type": "markdown",
   "metadata": {},
   "source": [
    "**Plotagem amostral dos comentários por nível de satisfação**"
   ]
  },
  {
   "cell_type": "code",
   "execution_count": 85,
   "metadata": {},
   "outputs": [],
   "source": [
    "def print_nivel_melhoria(i):\n",
    "    registro = df1.iloc[i]\n",
    "    m = df1['melhoria'].iloc[i].encode('utf-8')[:60]\n",
    "    n = df1['prob_nivel'].iloc[i].encode('utf-8').upper()\n",
    "    print('{} \\t  :\\t {}'.format(n,m))"
   ]
  },
  {
   "cell_type": "code",
   "execution_count": 125,
   "metadata": {},
   "outputs": [
    {
     "name": "stdout",
     "output_type": "stream",
     "text": [
      "Nivel NPS : \t Comentários melhorias\n",
      "\n",
      "ALTO \t  :\t Nada, são simplesmente perfeitos!\n",
      "ALTO \t  :\t Apenas uma sugestão: Colocar a opção de transmitir as aul\n",
      "ALTO \t  :\t Amo\n",
      "ALTO \t  :\t poderia baixar arquivos\n",
      "ALTO \t  :\t aulas de redação para a unesp , conclusão sem proposta de\n",
      "ALTO \t  :\t aulas de redação para a unesp , conclusão sem proposta de\n",
      "ALTO \t  :\t Nada, são simplesmente perfeitos!\n",
      "ALTO \t  :\t Continuar com essa equipe maravilhosa que estão sempre disp\n",
      "ALTO \t  :\t bom\n",
      "ALTO \t  :\t ta tudo pefeito\n"
     ]
    }
   ],
   "source": [
    "print(\"Nivel NPS : \\t Comentários melhorias\\n\")\n",
    "for i in range(10):\n",
    "    indice = df1[ (~df1['melhoria'].isna()) & (df1['prob_nivel'] == 'alto') ].sample(1).index[0]\n",
    "    #print(indice)\n",
    "    print_nivel_melhoria(indice)"
   ]
  },
  {
   "cell_type": "code",
   "execution_count": 126,
   "metadata": {},
   "outputs": [
    {
     "name": "stdout",
     "output_type": "stream",
     "text": [
      "Nivel NPS : \t Comentários melhorias\n",
      "\n",
      "BAIXO \t  :\t tudo\n",
      "BAIXO \t  :\t tudo\n",
      "BAIXO \t  :\t tudo\n",
      "BAIXO \t  :\t uma porcaria\n",
      "BAIXO \t  :\t tudo\n",
      "BAIXO \t  :\t tudo\n",
      "BAIXO \t  :\t uma porcaria\n",
      "BAIXO \t  :\t tudo\n",
      "BAIXO \t  :\t uma porcaria\n",
      "BAIXO \t  :\t tudo\n"
     ]
    }
   ],
   "source": [
    "print(\"Nivel NPS : \\t Comentários melhorias\\n\")\n",
    "for i in range(10):\n",
    "    indice = df1[ (~df1['melhoria'].isna()) & (df1['prob_nivel'] == 'baixo') ].sample(1).index[0]\n",
    "    print_nivel_melhoria(indice)"
   ]
  },
  {
   "cell_type": "code",
   "execution_count": 130,
   "metadata": {},
   "outputs": [
    {
     "data": {
      "text/plain": [
       "0"
      ]
     },
     "execution_count": 130,
     "metadata": {},
     "output_type": "execute_result"
    }
   ],
   "source": [
    "df1[ df1['prob_nivel'] == 'medio' ]['melhoria'].notnull().sum()"
   ]
  },
  {
   "cell_type": "markdown",
   "metadata": {},
   "source": [
    "*Nenhuma avaliação de nível médio contém comentário para melhoria.*"
   ]
  },
  {
   "cell_type": "markdown",
   "metadata": {},
   "source": [
    "**Análise da quantidade de palavras**"
   ]
  },
  {
   "cell_type": "code",
   "execution_count": 132,
   "metadata": {},
   "outputs": [],
   "source": [
    "# Função para remoção de acentos nas palavras\n",
    "from unicodedata import normalize\n",
    "def remover_acentos(txt):\n",
    "    return normalize('NFKD', txt).encode('ASCII', 'ignore').decode('ASCII')"
   ]
  },
  {
   "cell_type": "markdown",
   "metadata": {},
   "source": [
    "Criação dos dicionários pelos níveis de avaliação"
   ]
  },
  {
   "cell_type": "code",
   "execution_count": 134,
   "metadata": {},
   "outputs": [],
   "source": [
    "contador_alto = Counter()\n",
    "contador_baixo = Counter()\n",
    "contador_total = Counter()\n",
    "\n",
    "for i in df1[~df1['melhoria'].isna()].index:\n",
    "    m = remover_acentos( df1['melhoria'].iloc[i] ).encode('utf-8').lower()\n",
    "    n = df1['prob_nivel'].iloc[i]\n",
    "    \n",
    "    if n == 'alto':\n",
    "        for w in nltk.word_tokenize(m):\n",
    "                contador_alto[w] += 1\n",
    "                contador_total[w] += 1\n",
    "    elif n == 'baixo':\n",
    "        for w in nltk.word_tokenize(m):\n",
    "            contador_baixo[w] += 1\n",
    "            contador_total[w] += 1\n",
    "    else:\n",
    "        pass"
   ]
  },
  {
   "cell_type": "code",
   "execution_count": 141,
   "metadata": {},
   "outputs": [
    {
     "name": "stdout",
     "output_type": "stream",
     "text": [
      "Total de palavras encontradas: 311.\n"
     ]
    }
   ],
   "source": [
    "print('Total de palavras encontradas: {}.'.format(len(contador_total)))"
   ]
  },
  {
   "cell_type": "markdown",
   "metadata": {},
   "source": [
    "Palavras mais comuns no nível de satisfação baixo"
   ]
  },
  {
   "cell_type": "code",
   "execution_count": 94,
   "metadata": {},
   "outputs": [
    {
     "data": {
      "text/plain": [
       "[('porcaria', 1), ('uma', 1), ('tudo', 1)]"
      ]
     },
     "execution_count": 94,
     "metadata": {},
     "output_type": "execute_result"
    }
   ],
   "source": [
    "contador_baixo.most_common()"
   ]
  },
  {
   "cell_type": "markdown",
   "metadata": {},
   "source": [
    "*Encontrado apenas um comentário no nível de satisfação baixo.*"
   ]
  },
  {
   "cell_type": "markdown",
   "metadata": {},
   "source": [
    "Palavras mais comuns de nível de satisfação alto"
   ]
  },
  {
   "cell_type": "code",
   "execution_count": 142,
   "metadata": {},
   "outputs": [
    {
     "data": {
      "text/plain": [
       "[(',', 29),\n",
       " ('.', 23),\n",
       " ('de', 21),\n",
       " ('aulas', 18),\n",
       " ('e', 16),\n",
       " ('o', 12),\n",
       " ('as', 12),\n",
       " ('!', 12),\n",
       " ('a', 12),\n",
       " ('os', 12),\n",
       " ('mais', 11),\n",
       " ('que', 8),\n",
       " ('com', 8),\n",
       " ('para', 8),\n",
       " ('por', 7),\n",
       " ('das', 6),\n",
       " ('nao', 6),\n",
       " ('exercicios', 5),\n",
       " ('ser', 5),\n",
       " ('muito', 5)]"
      ]
     },
     "execution_count": 142,
     "metadata": {},
     "output_type": "execute_result"
    }
   ],
   "source": [
    "contador_alto.most_common()[:20]"
   ]
  },
  {
   "cell_type": "markdown",
   "metadata": {},
   "source": [
    "*Entre os elementos mais frequentes, foram encontrados muita pontuação e palavras que não possuem poder significativo. Será feita uma limpeza no dataset para eliminar esses casos.*"
   ]
  },
  {
   "cell_type": "markdown",
   "metadata": {},
   "source": [
    "Limpeza do dataset removendo as stopwords e pontuação"
   ]
  },
  {
   "cell_type": "code",
   "execution_count": 144,
   "metadata": {},
   "outputs": [
    {
     "data": {
      "text/plain": [
       "[('aulas', 18),\n",
       " ('nao', 6),\n",
       " ('exercicios', 5),\n",
       " ('ser', 5),\n",
       " ('redacao', 5),\n",
       " ('colocar', 5),\n",
       " ('melhorar', 4),\n",
       " ('sao', 4),\n",
       " ('tudo', 3),\n",
       " ('estudo', 3),\n",
       " ('estao', 3),\n",
       " ('acho', 3),\n",
       " ('cada', 3),\n",
       " ('gravadas', 3),\n",
       " ('excelente', 3),\n",
       " ('aplicativo', 3),\n",
       " ('menos', 2),\n",
       " ('ajudar', 2),\n",
       " ('nada', 2),\n",
       " ('possivel', 2)]"
      ]
     },
     "execution_count": 144,
     "metadata": {},
     "output_type": "execute_result"
    }
   ],
   "source": [
    "for i in stopwords.words('portuguese'):\n",
    "    del(contador_alto[i])\n",
    "    del(contador_total[i])\n",
    "    \n",
    "lista_para_excluir = [',' , '.' , ';', '!']\n",
    "for i in lista_para_excluir:\n",
    "    del(contador_alto[i])\n",
    "    del(contador_total[i])\n",
    "    \n",
    "contador_alto.most_common()[:20]"
   ]
  },
  {
   "cell_type": "code",
   "execution_count": 146,
   "metadata": {},
   "outputs": [
    {
     "name": "stdout",
     "output_type": "stream",
     "text": [
      "Total de palavras encontradas após a limpeza do dataset: 268.\n"
     ]
    }
   ],
   "source": [
    "print('Total de palavras encontradas após a limpeza do dataset: {}.'.format(len(contador_total)))"
   ]
  },
  {
   "cell_type": "markdown",
   "metadata": {},
   "source": [
    "## 2- Propensão\n",
    "<br>Gostariamos de prever alunos propensos à renovação de plano a partir de seu historico de interações com a plataforma\n",
    "<br>Na aba \"Item 2\" há uma base de 1000 alunos com as interações em 1 semestre e uma flag em que 1 indica que houve renovação de plano\n",
    "<br>Quais aprendizados você pode tirar do produto com esta análise? Como indicaria que se trabalhasse a propensão à renovação?"
   ]
  },
  {
   "cell_type": "markdown",
   "metadata": {},
   "source": [
    "### 2.1 Descrição dos dados"
   ]
  },
  {
   "cell_type": "code",
   "execution_count": 148,
   "metadata": {},
   "outputs": [
    {
     "name": "stdout",
     "output_type": "stream",
     "text": [
      "================================================================================\n",
      "===== Dimensão da base de dados: 6 colunas e 999 registros.\n",
      "================================================================================\n",
      "===== Colunas:\n",
      "== aluno_id, \n",
      "== aula_online, \n",
      "== aula_gravada, \n",
      "== exercicios, \n",
      "== simulados, \n",
      "== renovação\n",
      "================================================================================\n",
      "<class 'pandas.core.frame.DataFrame'>\n",
      "RangeIndex: 240 entries, 0 to 239\n",
      "Data columns (total 4 columns):\n",
      "id                 240 non-null int64\n",
      "prob_recomendar    240 non-null int64\n",
      "melhoria           49 non-null object\n",
      "prob_nivel         240 non-null category\n",
      "dtypes: category(1), int64(2), object(1)\n",
      "memory usage: 6.0+ KB\n",
      "None\n",
      "================================================================================\n"
     ]
    }
   ],
   "source": [
    "descricao_dados(df2)"
   ]
  },
  {
   "cell_type": "code",
   "execution_count": null,
   "metadata": {},
   "outputs": [],
   "source": []
  }
 ],
 "metadata": {
  "kernelspec": {
   "display_name": "Python 3",
   "language": "python",
   "name": "python3"
  }
 },
 "nbformat": 4,
 "nbformat_minor": 2
}
